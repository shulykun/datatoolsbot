{
 "cells": [
  {
   "cell_type": "markdown",
   "metadata": {},
   "source": [
    "# Тест бота"
   ]
  },
  {
   "cell_type": "code",
   "execution_count": 21,
   "metadata": {},
   "outputs": [],
   "source": [
    "import json\n",
    "import requests\n",
    "\n",
    "host = 'https://datalools18.roborumba.com'\n",
    "url_tg = host+'/hook/'\n",
    "url_ya = host+'/hook_ya/'\n",
    "\n",
    "tg_user_id = 123456 # вставить свой id в телеграм, можно посмотреть в бд в таблице users\n",
    "ya_user_id = '123456' # вставить произвольный"
   ]
  },
  {
   "cell_type": "markdown",
   "metadata": {},
   "source": [
    "## Функции"
   ]
  },
  {
   "cell_type": "code",
   "execution_count": 23,
   "metadata": {},
   "outputs": [],
   "source": [
    "def tg_set_hook(text, user_id=123456):\n",
    "    \"\"\"заготовка под запрос\"\"\"\n",
    "    data = {\n",
    "            \"update_id\":675792046,\n",
    "            \"message\":{\n",
    "                \"message_id\":6574,\n",
    "                \"from\":{\n",
    "                        \"id\":user_id,\n",
    "                        \"is_bot\":'false',\n",
    "                        \"first_name\":\"Vadim\",\n",
    "                        \"last_name\":\"Shulginov\",\n",
    "                        \"username\":\"shulykun\",\n",
    "                        \"language_code\":\"ru\"\n",
    "                        },\n",
    "                \"chat\":{\n",
    "                        \"id\":user_id,\n",
    "                        \"first_name\":\"Vadim\",\n",
    "                        \"last_name\":\"Shulginov\",\n",
    "                        \"username\":\"shulykun\",\n",
    "                        \"type\":\"private\"\n",
    "                    },\n",
    "                \"date\":1532835342,\n",
    "                \"text\":text\n",
    "            }\n",
    "        }\n",
    "        \n",
    "    return data\n",
    "    \n",
    "    \n",
    "\n",
    "def tg_set_button(c_text, user_id=123456): \n",
    "    data = {'update_id': 168295814, \n",
    "            'callback_query': \n",
    "                {'id': '342360223901753478', \n",
    "                 'from': {\n",
    "                     'id': user_id, 'is_bot': False, 'first_name': 'Vadim', \n",
    "                      'last_name': 'Shulginov', 'username': 'shulykun',\n",
    "                      'language_code': 'ru'\n",
    "                    }, \n",
    "                 'message': {\n",
    "                     'message_id': 171, \n",
    "                      'from': {'id': 5555917842, 'is_bot': True, 'first_name': 'Карман слов', 'username': 'wordpoketbot'}, \n",
    "                      'chat': {'id': 123456, 'first_name': 'Vadim', 'last_name': 'Shulginov', \n",
    "                               'username': 'shulykun', 'type': 'private'}, \n",
    "                     'date': 1656854954, 'text': 'Ошибка!\\n\\nПопробуй снова:\\xa0«sticky»?:', \n",
    "                     'reply_markup': \n",
    "                        {'inline_keyboard': \n",
    "                             [\n",
    "                             [\n",
    "                                  {'text': 'sticky', 'callback_data': 'sticky'}, \n",
    "                                  {'text': 'tap', 'callback_data': 'tap'}, \n",
    "                                  {'text': 'contraction', 'callback_data': 'contraction'}\n",
    "                             ], \n",
    "                             [\n",
    "                                 {'text': 'fly', 'callback_data': 'fly'}\n",
    "                             ]\n",
    "                            ]\n",
    "                         }\n",
    "                 }, 'chat_instance': '-2101764588218582393', 'data': c_text}\n",
    "           }\n",
    "    return data\n",
    "\n",
    "\n",
    "def ya_set_hook(text, user_id_session= '123456'):\n",
    "    \n",
    "\n",
    "    user_id = \"_1B5153BDD604CDAF7C459E3B9D8D964CE336F0C3C431B029DFEF18D0B056C743C\"\n",
    "    application_id = '_470B4CAF810AAD8FDA0B21D3C06E7281C4F6F0FBE0B2B6F98484C676FECAF72C'\n",
    "    \n",
    "    q = {\"meta\":{\"locale\":\"ru-RU\",\"timezone\":\"Europe/Moscow\",\n",
    "                 \"client_id\":\"ru.yandex.mobile/9800 (Apple iPhone; iphone 14.8)\",\n",
    "                 \"interfaces\":{\"screen\":{},\"payments\":{},\"account_linking\":{}}},\n",
    "         \"session\":{\n",
    "            \"message_id\":0,\"session_id\":\"dad10e70-eab6-4fa8-855a-eeaea34f6db8\",\n",
    "            \"skill_id\":\"581482cf-8120-42e7-9e67-8d6f19fa7a59\",\n",
    "            \"user\":{\n",
    "                \"user_id\":user_id\n",
    "            },\n",
    "            \"application\":{\n",
    "                \"application_id\":application_id\n",
    "            },\n",
    "            \"user_id\":user_id_session,\n",
    "            \"new\":True\n",
    "        },\n",
    "\n",
    "         \"request\":{\n",
    "            \"command\":text,\n",
    "            \"original_utterance\":text,\n",
    "            \"nlu\":{\n",
    "                \"tokens\":[],\n",
    "                \"entities\":[],\n",
    "                \"intents\":{}\n",
    "               },\n",
    "            \"markup\":{\"dangerous_context\":False},\n",
    "            \"type\":\"SimpleUtterance\"},\n",
    "         \"version\":\"1.0\"}\n",
    "    \n",
    "    return q"
   ]
  },
  {
   "cell_type": "markdown",
   "metadata": {
    "heading_collapsed": true
   },
   "source": [
    "## Телеграм - Сообщения"
   ]
  },
  {
   "cell_type": "code",
   "execution_count": 13,
   "metadata": {
    "hidden": true,
    "scrolled": false
   },
   "outputs": [
    {
     "name": "stdout",
     "output_type": "stream",
     "text": [
      "Отправка на адрес:  https://wp16dev.roborumba.com/hook/ Id клиента:  123456\n",
      "Запрос:  отмена\n",
      "Ответ:  {'text': 'Хорошо, выходим в главное меню. Можем выбрать другую тему, добавить свои слова или снова запустить тест', 'disable_web_page_preview': False, 'reply_markup': <telebot.types.InlineKeyboardMarkup object at 0x7f8a43affac8>}\n"
     ]
    }
   ],
   "source": [
    "words ='''отмена\n",
    "doom\n",
    "отмена\n",
    "привет\n",
    "добавить слово\n",
    "speed on\n",
    "sticky\n",
    "отмена\n",
    "c_test\n",
    "tap\n",
    "sticky\n",
    "contraction\n",
    "отмена\n",
    "добавить слово\n",
    "tap\n",
    "добавить слово\n",
    "sticky\n",
    "c_add\n",
    "gauge\n",
    "добавить слово\n",
    "contraction\n",
    "'''\n",
    "\n",
    "words = words.split()\n",
    "\n",
    "print('Отправка на адрес: ', url_tg, 'Id клиента: ', tg_user_id)\n",
    "for i in words[:1]:\n",
    "    \n",
    "    print('Запрос: ', i)\n",
    "    \n",
    "    hook_json = tg_set_hook(i, user_id=tg_user_id)    \n",
    "    r = requests.post(url_tg, json=hook_json, timeout=5)\n",
    "\n",
    "    print('Ответ: ', r.text)\n",
    "    "
   ]
  },
  {
   "cell_type": "markdown",
   "metadata": {
    "heading_collapsed": true
   },
   "source": [
    "## Телеграм - Кнопки"
   ]
  },
  {
   "cell_type": "code",
   "execution_count": 16,
   "metadata": {
    "hidden": true
   },
   "outputs": [
    {
     "name": "stdout",
     "output_type": "stream",
     "text": [
      "Отправка на адрес:  https://wp16dev.roborumba.com/hook/ Id клиента:  123456\n",
      "Запрос:  c_drop\n",
      "Ответ:  {'text': 'Хорошо, выходим в главное меню. Можем выбрать другую тему, добавить свои слова или снова запустить тест', 'disable_web_page_preview': False, 'reply_markup': <telebot.types.InlineKeyboardMarkup object at 0x7f8a3c435b00>}\n"
     ]
    }
   ],
   "source": [
    "buttons ='''c_drop\n",
    "c_test\n",
    "c_drop'''\n",
    "\n",
    "print('Отправка на адрес: ', url_tg, 'Id клиента: ', tg_user_id)\n",
    "\n",
    "buttons = buttons.split()\n",
    "\n",
    "for i in buttons[:1]:\n",
    "    \n",
    "    print('Запрос: ', i)\n",
    "    \n",
    "    hook_json = tg_set_button(i,user_id=tg_user_id)\n",
    "    r = requests.post(url_tg, json=hook_json)\n",
    "    \n",
    "    print('Ответ: ', r.text)\n"
   ]
  },
  {
   "cell_type": "markdown",
   "metadata": {
    "heading_collapsed": true
   },
   "source": [
    "## Яндекс - Сообщения"
   ]
  },
  {
   "cell_type": "code",
   "execution_count": 24,
   "metadata": {
    "hidden": true,
    "scrolled": false
   },
   "outputs": [
    {
     "name": "stdout",
     "output_type": "stream",
     "text": [
      "https://wp16dev.roborumba.com/hook_ya/\n",
      "----- c_add ----- {'response': {'buttons': [], 'end_session': False, 'text': 'Я готов пополнить словарь. Напиши мне слово для перевода', 'tts': 'Я готов пополнить словарь. Напиши мне слово для перевода'}, 'session': {'application': {'application_id': '_470B4CAF810AAD8FDA0B21D3C06E7281C4F6F0FBE0B2B6F98484C676FECAF72C'}, 'message_id': 0, 'new': True, 'session_id': 'dad10e70-eab6-4fa8-855a-eeaea34f6db8', 'skill_id': '581482cf-8120-42e7-9e67-8d6f19fa7a59', 'user': {'user_id': '_1B5153BDD604CDAF7C459E3B9D8D964CE336F0C3C431B029DFEF18D0B056C743C'}, 'user_id': '123456'}, 'version': '1.0'}\n",
      "----- щелбан ----- {'response': {'buttons': [{'hide': 'false', 'payload': 'click', 'title': 'click'}], 'end_session': False, 'text': 'щелбан — выбери вариант перевода чтобы сохранить слово: click', 'tts': 'щелбан — выбери вариант перевода чтобы сохранить слово: click'}, 'session': {'application': {'application_id': '_470B4CAF810AAD8FDA0B21D3C06E7281C4F6F0FBE0B2B6F98484C676FECAF72C'}, 'message_id': 0, 'new': True, 'session_id': 'dad10e70-eab6-4fa8-855a-eeaea34f6db8', 'skill_id': '581482cf-8120-42e7-9e67-8d6f19fa7a59', 'user': {'user_id': '_1B5153BDD604CDAF7C459E3B9D8D964CE336F0C3C431B029DFEF18D0B056C743C'}, 'user_id': '123456'}, 'version': '1.0'}\n",
      "----- тест ----- {'response': {'buttons': [{'hide': 'false', 'payload': 'click', 'title': 'click'}], 'end_session': False, 'text': 'щелбан — выбери вариант перевода чтобы сохранить слово: click', 'tts': 'щелбан — выбери вариант перевода чтобы сохранить слово: click'}, 'session': {'application': {'application_id': '_470B4CAF810AAD8FDA0B21D3C06E7281C4F6F0FBE0B2B6F98484C676FECAF72C'}, 'message_id': 0, 'new': True, 'session_id': 'dad10e70-eab6-4fa8-855a-eeaea34f6db8', 'skill_id': '581482cf-8120-42e7-9e67-8d6f19fa7a59', 'user': {'user_id': '_1B5153BDD604CDAF7C459E3B9D8D964CE336F0C3C431B029DFEF18D0B056C743C'}, 'user_id': '123456'}, 'version': '1.0'}\n",
      "-----  ----- {'response': {'buttons': [{'hide': 'false', 'payload': 'c_set', 'title': 'Темы'}, {'hide': 'false', 'payload': 'c_translatormode', 'title': 'Режим перевода'}, {'hide': 'false', 'payload': 'c_account', 'title': 'Аккаунт'}, {'hide': 'false', 'payload': 'c_help', 'title': 'Помощь'}], 'end_session': False, 'text': '👋 Привет, это «Карман Слов». Я могу помочь в изучении английского. Я могу проводить тесты словам в разных жизнненных ситуациях. А еще - отправить тебе перевод любой фразы. Напиши «Выбрать тему», чтобы начать.', 'tts': 'Привет, это «Карман Слов». Я могу помочь в изучении английского. Я могу проводить тесты словам в разных жизнненных ситуациях. А еще - отправить тебе перевод любой фразы. Напиши «Выбрать тему», чтобы начать.'}, 'session': {'application': {'application_id': '_470B4CAF810AAD8FDA0B21D3C06E7281C4F6F0FBE0B2B6F98484C676FECAF72C'}, 'message_id': 0, 'new': True, 'session_id': 'dad10e70-eab6-4fa8-855a-eeaea34f6db8', 'skill_id': '581482cf-8120-42e7-9e67-8d6f19fa7a59', 'user': {'user_id': '_1B5153BDD604CDAF7C459E3B9D8D964CE336F0C3C431B029DFEF18D0B056C743C'}, 'user_id': '123456'}, 'version': '1.0'}\n"
     ]
    }
   ],
   "source": [
    "\n",
    "words ='''отмена\n",
    "c_add\n",
    "щелбан\n",
    "тест\n",
    "'''\n",
    "\n",
    "words = words.split('\\n')\n",
    "for i in words:\n",
    "    \n",
    "    hook_json = ya_set_hook(i, user_id_session=ya_user_id)\n",
    "    r = requests.post(url_ya, json=hook_json)\n",
    "    \n",
    "    try:\n",
    "        t = json.loads(r.text)\n",
    "    except:\n",
    "        t = r.text\n",
    "    print('-----', i, '-----', t)"
   ]
  }
 ],
 "metadata": {
  "kernelspec": {
   "display_name": "Python 3",
   "language": "python",
   "name": "python3"
  },
  "language_info": {
   "codemirror_mode": {
    "name": "ipython",
    "version": 3
   },
   "file_extension": ".py",
   "mimetype": "text/x-python",
   "name": "python",
   "nbconvert_exporter": "python",
   "pygments_lexer": "ipython3",
   "version": "3.6.7"
  },
  "toc": {
   "base_numbering": 1,
   "nav_menu": {},
   "number_sections": true,
   "sideBar": true,
   "skip_h1_title": false,
   "title_cell": "Table of Contents",
   "title_sidebar": "Contents",
   "toc_cell": false,
   "toc_position": {},
   "toc_section_display": true,
   "toc_window_display": true
  }
 },
 "nbformat": 4,
 "nbformat_minor": 2
}
